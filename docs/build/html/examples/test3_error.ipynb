{
 "cells": [
  {
   "cell_type": "markdown",
   "id": "cad3cde0",
   "metadata": {},
   "source": [
    "# Numerical Error — Monochromatic Wave Propagation\n",
    "\n",
    "This notebook shows how to extract free surface time series from the numerical solution and use them to evaluate both dispersive and diffusive numerical errors.\n",
    "\n",
    "We compare the performance of two numerical schemes:\n",
    "\n",
    "1. **Conservative Staggered Scheme**  \n",
    "   - 2nd-order flux reconstruction  \n",
    "   - 2nd-order Runge–Kutta time integration\n",
    "\n",
    "2. **HLLC Scheme**  \n",
    "   - 5th-order flux reconstruction  \n",
    "   - 3rd-order Runge–Kutta time integration\n",
    "\n",
    "Both schemes are tested using three different grid resolutions, corresponding to **20**, **30**, and **40** grid points per wavelength."
   ]
  },
  {
   "cell_type": "markdown",
   "id": "412c8510",
   "metadata": {},
   "source": [
    "## Imports\n",
    "\n",
    "First, we need to set the working directory to the main WavePropError directory to import the `scripts` module.\n",
    "\n",
    "We import `plotly.io as pio` to save the interactive Plotly plot as an HTML file. The `IPython.display.IFrame` is used to display this HTML file within the documentation, making the interactive plot accessible directly from the Sphinx-generated documentation."
   ]
  },
  {
   "cell_type": "code",
   "execution_count": 1,
   "id": "733847d4",
   "metadata": {},
   "outputs": [],
   "source": [
    "import os\n",
    "\n",
    "maindir = os.path.abspath(os.path.join(os.getcwd(), \"../../..\"))\n",
    "os.chdir(maindir)\n",
    "\n",
    "from scripts import *\n",
    "import plotly.io as pio\n",
    "from IPython.display import IFrame"
   ]
  },
  {
   "cell_type": "markdown",
   "id": "e70b1157",
   "metadata": {},
   "source": [
    "## User input\n",
    "\n",
    "We define the wave parameters and numerical settings for the model runs, which will be used consistently across all model runs."
   ]
  },
  {
   "cell_type": "markdown",
   "id": "bec23e11",
   "metadata": {},
   "source": [
    "### Wave parameters"
   ]
  },
  {
   "cell_type": "code",
   "execution_count": 2,
   "id": "18dc294b",
   "metadata": {},
   "outputs": [
    {
     "name": "stdout",
     "output_type": "stream",
     "text": [
      "Wave length: 5.20\n"
     ]
    }
   ],
   "source": [
    "wave_amplitude = 0.5e-2  # wave amplitude in m, small amplitude assumption\n",
    "wave_period = 2  # wave period in s\n",
    "water_depth = 1  # water depth in m\n",
    "\n",
    "wave_length = wavelength_nwogu(\n",
    "    wave_period, water_depth\n",
    ")  # wave length in m computed using Nwogu's dispersion relation\n",
    "print(\"Wave length: {:.2f}\".format(wave_length))"
   ]
  },
  {
   "cell_type": "markdown",
   "id": "00603395",
   "metadata": {},
   "source": [
    "### Numerical settings"
   ]
  },
  {
   "cell_type": "code",
   "execution_count": 3,
   "id": "e0d48388",
   "metadata": {},
   "outputs": [
    {
     "name": "stdout",
     "output_type": "stream",
     "text": [
      "Grid size: 0.26\n",
      "Grid size: 0.17\n",
      "Grid size: 0.13\n",
      "Domain size: 156.13 m\n",
      "Simulation time: 120.00 s\n"
     ]
    }
   ],
   "source": [
    "points_per_wl = [20, 30, 40]\n",
    "domain_wl = 30\n",
    "duration_tp = 60\n",
    "\n",
    "courant_number = 0.5  # courant number\n",
    "\n",
    "grid_size = [wave_length / ppwl for ppwl in points_per_wl]  # grid size in m\n",
    "domain_size = wave_length * domain_wl\n",
    "run_time = wave_period * duration_tp\n",
    "\n",
    "for dx in grid_size:\n",
    "    print(\"Grid size: {:.2f}\".format(dx))\n",
    "print(\"Domain size: {:.2f} m\".format(domain_size))\n",
    "print(\"Simulation time: {:.2f} s\".format(run_time))"
   ]
  },
  {
   "cell_type": "markdown",
   "id": "0c72e52c",
   "metadata": {},
   "source": [
    "Here, we specify the gauge locations, the time step for sampling time series, and the time interval used for error analysis.  \n",
    "This ensures accurate results by excluding initial transients before the wave field stabilizes."
   ]
  },
  {
   "cell_type": "code",
   "execution_count": 4,
   "id": "58982de4",
   "metadata": {},
   "outputs": [],
   "source": [
    "# We define equally spaced gauges between 15 and 20 wavelengths,\n",
    "# with 10 gauges per wavelength based on the current grid resolution\n",
    "gauges_location = []\n",
    "for i in range(len(grid_size)):\n",
    "    gauges = [\n",
    "        x\n",
    "        for x in np.linspace(\n",
    "            15 * wave_length, 20 * wave_length, points_per_wl[i] * 5 + 1\n",
    "        )\n",
    "    ]\n",
    "    gauges = np.array(gauges)\n",
    "    gauges_location.append(gauges)\n",
    "\n",
    "# We define the time interval for error computation\n",
    "time_max = run_time\n",
    "time_min = 50 * wave_period"
   ]
  },
  {
   "cell_type": "markdown",
   "id": "aeac9e17",
   "metadata": {},
   "source": [
    "## Model runs\n",
    "\n",
    "We run the each scheme with the 3 different grid resolutions. For each scheme, the simulation results are stored in a list of datasets: ds_stagg and ds_hllc.\n",
    "\n",
    "This example demonstrates how the `run_sine_wave` function can be used to generate multiple runs with varying grid sizes while keeping the wave parameters constant."
   ]
  },
  {
   "cell_type": "markdown",
   "id": "1bbfde26",
   "metadata": {},
   "source": [
    "### Conservative Staggered Scheme - 2nd-order"
   ]
  },
  {
   "cell_type": "code",
   "execution_count": 5,
   "id": "19199852",
   "metadata": {},
   "outputs": [
    {
     "name": "stdout",
     "output_type": "stream",
     "text": [
      "Running STAGG_GRID_20...\n",
      "\n",
      "Input parameters\n",
      "----------------\n",
      "Numerical scheme :conservative_staggered\n",
      "Order of reconstruction :2\n",
      "Order of RK time integration :2\n",
      "Courant number :0.5\n",
      "Grid spacing :0.260214 m\n",
      "Length of the domain :156.128 m\n",
      "Water depth :1 m\n",
      "Total computation time :120 s\n",
      "Time step for the output :120 s\n",
      "Time step for the gauges :0.002 s\n",
      "frequency [Hz]           amplitude [m]            phase [rad]              \n",
      "0.5                      0.005                    0                        \n",
      "\n",
      "Computation Progress:    \n",
      "100% [||||||||||||||||||||||||||||||||||||||||||||||||||||||||||||]\n",
      "\n",
      "The numerical simulation took 2.63452 s\n",
      "\n",
      "\n",
      "Reading STAGG_GRID_20 results and converting to xarray.Dataset...\n",
      "Done!\n",
      "Running STAGG_GRID_30...\n",
      "\n",
      "Input parameters\n",
      "----------------\n",
      "Numerical scheme :conservative_staggered\n",
      "Order of reconstruction :2\n",
      "Order of RK time integration :2\n",
      "Courant number :0.5\n",
      "Grid spacing :0.173476 m\n",
      "Length of the domain :156.128 m\n",
      "Water depth :1 m\n",
      "Total computation time :120 s\n",
      "Time step for the output :120 s\n",
      "Time step for the gauges :0.002 s\n",
      "frequency [Hz]           amplitude [m]            phase [rad]              \n",
      "0.5                      0.005                    0                        \n",
      "\n",
      "Computation Progress:    \n",
      "100% [||||||||||||||||||||||||||||||||||||||||||||||||||||||||||||]\n",
      "\n",
      "The numerical simulation took 4.17106 s\n",
      "\n",
      "\n",
      "Reading STAGG_GRID_30 results and converting to xarray.Dataset...\n",
      "Done!\n",
      "Running STAGG_GRID_40...\n",
      "\n",
      "Input parameters\n",
      "----------------\n",
      "Numerical scheme :conservative_staggered\n",
      "Order of reconstruction :2\n",
      "Order of RK time integration :2\n",
      "Courant number :0.5\n",
      "Grid spacing :0.130107 m\n",
      "Length of the domain :156.128 m\n",
      "Water depth :1 m\n",
      "Total computation time :120 s\n",
      "Time step for the output :120 s\n",
      "Time step for the gauges :0.002 s\n",
      "frequency [Hz]           amplitude [m]            phase [rad]              \n",
      "0.5                      0.005                    0                        \n",
      "\n",
      "Computation Progress:    \n",
      "100% [||||||||||||||||||||||||||||||||||||||||||||||||||||||||||||]\n",
      "\n",
      "The numerical simulation took 5.47222 s\n",
      "\n",
      "\n",
      "Reading STAGG_GRID_40 results and converting to xarray.Dataset...\n",
      "Done!\n"
     ]
    }
   ],
   "source": [
    "ds_stagg = []\n",
    "\n",
    "for i in range(len(grid_size)):\n",
    "\n",
    "    ds = run_sine_wave(\n",
    "        name_run=\"STAGG_GRID_{}\".format(points_per_wl[i]),\n",
    "        scheme=conservative_staggered,\n",
    "        order_reconstruction=2,\n",
    "        order_time_integration=2,\n",
    "        courant_number=courant_number,\n",
    "        grid_size=grid_size[i],\n",
    "        domain_size=domain_size,\n",
    "        water_depth=water_depth,\n",
    "        wave_amplitude=wave_amplitude,\n",
    "        wave_period=wave_period,\n",
    "        run_time=run_time,\n",
    "        output_interval=run_time,\n",
    "        gauges_locations=gauges_location[i],\n",
    "        gauges_dt=wave_period / 1000,\n",
    "    )\n",
    "\n",
    "    ds_stagg.append(ds)"
   ]
  },
  {
   "cell_type": "markdown",
   "id": "ffadf536",
   "metadata": {},
   "source": [
    "### HLLC Scheme - fifth order reconstruction and third order time integration"
   ]
  },
  {
   "cell_type": "code",
   "execution_count": 6,
   "id": "bd18e176",
   "metadata": {},
   "outputs": [
    {
     "name": "stdout",
     "output_type": "stream",
     "text": [
      "Running HLLC_GRID_20...\n",
      "\n",
      "Input parameters\n",
      "----------------\n",
      "Numerical scheme :hllc\n",
      "Order of reconstruction :5\n",
      "Order of RK time integration :3\n",
      "Courant number :0.5\n",
      "Grid spacing :0.260214 m\n",
      "Length of the domain :156.128 m\n",
      "Water depth :1 m\n",
      "Total computation time :120 s\n",
      "Time step for the output :120 s\n",
      "Time step for the gauges :0.002 s\n",
      "frequency [Hz]           amplitude [m]            phase [rad]              \n",
      "0.5                      0.005                    0                        \n",
      "\n",
      "Computation Progress:    \n",
      "100% [||||||||||||||||||||||||||||||||||||||||||||||||||||||||||||]\n",
      "\n",
      "The numerical simulation took 5.10453 s\n",
      "\n",
      "\n",
      "Reading HLLC_GRID_20 results and converting to xarray.Dataset...\n",
      "Done!\n",
      "Running HLLC_GRID_30...\n",
      "\n",
      "Input parameters\n",
      "----------------\n",
      "Numerical scheme :hllc\n",
      "Order of reconstruction :5\n",
      "Order of RK time integration :3\n",
      "Courant number :0.5\n",
      "Grid spacing :0.173476 m\n",
      "Length of the domain :156.128 m\n",
      "Water depth :1 m\n",
      "Total computation time :120 s\n",
      "Time step for the output :120 s\n",
      "Time step for the gauges :0.002 s\n",
      "frequency [Hz]           amplitude [m]            phase [rad]              \n",
      "0.5                      0.005                    0                        \n",
      "\n",
      "Computation Progress:    \n",
      "100% [||||||||||||||||||||||||||||||||||||||||||||||||||||||||||||]\n",
      "\n",
      "The numerical simulation took 7.88902 s\n",
      "\n",
      "\n",
      "Reading HLLC_GRID_30 results and converting to xarray.Dataset...\n",
      "Done!\n",
      "Running HLLC_GRID_40...\n",
      "\n",
      "Input parameters\n",
      "----------------\n",
      "Numerical scheme :hllc\n",
      "Order of reconstruction :5\n",
      "Order of RK time integration :3\n",
      "Courant number :0.5\n",
      "Grid spacing :0.130107 m\n",
      "Length of the domain :156.128 m\n",
      "Water depth :1 m\n",
      "Total computation time :120 s\n",
      "Time step for the output :120 s\n",
      "Time step for the gauges :0.002 s\n",
      "frequency [Hz]           amplitude [m]            phase [rad]              \n",
      "0.5                      0.005                    0                        \n",
      "\n",
      "Computation Progress:    \n",
      "100% [||||||||||||||||||||||||||||||||||||||||||||||||||||||||||||]\n",
      "\n",
      "The numerical simulation took 11.5564 s\n",
      "\n",
      "\n",
      "Reading HLLC_GRID_40 results and converting to xarray.Dataset...\n",
      "Done!\n"
     ]
    }
   ],
   "source": [
    "ds_hllc = []\n",
    "\n",
    "for i in range(len(grid_size)):\n",
    "\n",
    "    ds = run_sine_wave(\n",
    "        name_run=\"HLLC_GRID_{}\".format(points_per_wl[i]),\n",
    "        scheme=hllc,\n",
    "        order_reconstruction=5,\n",
    "        order_time_integration=3,\n",
    "        courant_number=courant_number,\n",
    "        grid_size=grid_size[i],\n",
    "        domain_size=domain_size,\n",
    "        water_depth=water_depth,\n",
    "        wave_amplitude=wave_amplitude,\n",
    "        wave_period=wave_period,\n",
    "        run_time=run_time,\n",
    "        output_interval=run_time,\n",
    "        gauges_locations=gauges_location[i],\n",
    "        gauges_dt=wave_period / 1000,\n",
    "    )\n",
    "\n",
    "    ds_hllc.append(ds)"
   ]
  },
  {
   "cell_type": "markdown",
   "id": "dbca67e5",
   "metadata": {},
   "source": [
    "## Exact Solution\n",
    "\n",
    "We compute a separate exact solution for each grid resolution to ensure consistency with the results fromat, as the functions used to compute dispersive and diffusive errors require both the exact and numerical solutions to be on the same grid."
   ]
  },
  {
   "cell_type": "code",
   "execution_count": 7,
   "id": "39a11fbb",
   "metadata": {},
   "outputs": [],
   "source": [
    "ds_exact = []\n",
    "\n",
    "for i in range(len(grid_size)):\n",
    "    ds = sine_wave_exact_solution(\n",
    "        water_depth=water_depth,\n",
    "        wave_amplitude=wave_amplitude,\n",
    "        wave_period=wave_period,\n",
    "        time=ds_stagg[i].time.values,\n",
    "        x=ds_stagg[i].x,\n",
    "        time_gauges=ds_stagg[i].time_gauges.values,\n",
    "        index_gauges=ds_stagg[i].index_gauges.values,\n",
    "    )\n",
    "\n",
    "    ds_exact.append(ds)"
   ]
  },
  {
   "cell_type": "markdown",
   "id": "b3aea079",
   "metadata": {},
   "source": [
    "## Plotting"
   ]
  },
  {
   "cell_type": "markdown",
   "id": "5cf83699",
   "metadata": {},
   "source": [
    "### Time series\n",
    "\n",
    "We create an interactive plot of the time series for each scheme. The plot includes the exact solution and the numerical solutions for both schemes, allowing for a direct comparison of the results. We take the first resolution (20 grid points per wavelength) as an example, but the same process can be applied to the other resolutions as well.\n",
    "\n"
   ]
  },
  {
   "cell_type": "code",
   "execution_count": null,
   "id": "9b514345",
   "metadata": {},
   "outputs": [
    {
     "data": {
      "text/html": [
       "\n",
       "        <iframe\n",
       "            width=\"100%\"\n",
       "            height=\"600px\"\n",
       "            src=\"../_static/test3_time_series.html\"\n",
       "            frameborder=\"0\"\n",
       "            allowfullscreen\n",
       "            \n",
       "        ></iframe>\n",
       "        "
      ],
      "text/plain": [
       "<IPython.lib.display.IFrame at 0x7904b0331310>"
      ]
     },
     "execution_count": 8,
     "metadata": {},
     "output_type": "execute_result"
    }
   ],
   "source": [
    "kk = 0  # second grid resolution, 20 points per wavelength\n",
    "\n",
    "fig = plot_gauges(\n",
    "    [ds_stagg[kk], ds_hllc[kk]],\n",
    "    ds_exact[kk],\n",
    "    [10 * wave_length, 15 * wave_length, 20 * wave_length],\n",
    ")\n",
    "\n",
    "# Additional formatting of the fig object\n",
    "for i in range(1, 4):\n",
    "    fig.update_yaxes(range=[-0.01, 0.01], row=i, col=1)\n",
    "\n",
    "fig.update_layout(\n",
    "    legend=dict(orientation=\"h\", yanchor=\"bottom\", y=1.1, xanchor=\"center\", x=0.5),\n",
    ")\n",
    "\n",
    "pio.write_html(fig, file=\"docs/source/_static/test3_time_series.html\", auto_open=False)\n",
    "IFrame(src=\"../_static/test3_time_series.html\", width=\"100%\", height=\"600px\")"
   ]
  },
  {
   "cell_type": "markdown",
   "id": "abec60e2",
   "metadata": {},
   "source": [
    "## Compute Numerical Error"
   ]
  },
  {
   "cell_type": "markdown",
   "id": "df466eb1",
   "metadata": {},
   "source": [
    "In this section of the notebook, we compute the **dispersive** and **diffusive** errors for each numerical scheme and grid resolution. These errors are evaluated by comparing the numerical results from the model runs with the exact analytical solution.\n",
    "\n",
    "The functions `compute_disp_error` and `compute_diff_error` are used to compute the dispersive and diffusive errors, respectively. or more details on the error calculations, please refer to the documentation of these functions.\n",
    "\n",
    "The **diffusive error** is stored in the lists `rmse_amplitude_stagg` and `rmse_amplitude_hllc`, corresponding to the **conservative staggered scheme** and the **HLLC scheme**, respectively. Each element in these lists represents the root mean square error (RMSE) of the wave amplitude for a different grid resolution.\n",
    "\n",
    "The **dispersive error** is stored in the lists `rmse_phase_stagg` and `rmse_phase_hllc`, corresponding to the **conservative staggered scheme** and the **HLLC scheme**, respectively. Each element in these lists represents the root mean square error (RMSE) of the wave phase for a different grid resolution.\n"
   ]
  },
  {
   "cell_type": "markdown",
   "id": "b68c4e1c",
   "metadata": {},
   "source": [
    "### Diffusive error"
   ]
  },
  {
   "cell_type": "code",
   "execution_count": 9,
   "id": "dd1a15b7",
   "metadata": {},
   "outputs": [],
   "source": [
    "rmse_amplitude_stagg = []\n",
    "rmse_amplitude_hllc = []\n",
    "\n",
    "for i in range(len(grid_size)):\n",
    "\n",
    "    rmse_amplitude_stagg.append(\n",
    "        diffusive_rmse(ds_stagg[i].sel(time_gauges=slice(time_min, time_max)))\n",
    "    )\n",
    "\n",
    "    rmse_amplitude_hllc.append(\n",
    "        diffusive_rmse(ds_hllc[i].sel(time_gauges=slice(time_min, time_max)))\n",
    "    )"
   ]
  },
  {
   "cell_type": "code",
   "execution_count": 10,
   "id": "7c99b8ca",
   "metadata": {},
   "outputs": [
    {
     "name": "stdout",
     "output_type": "stream",
     "text": [
      "RMSE amplitude for staggered scheme:\n",
      "Grid size: 0.26 m, RMSE amplitude: 2.28e-03\n",
      "Grid size: 0.17 m, RMSE amplitude: 2.37e-03\n",
      "Grid size: 0.13 m, RMSE amplitude: 1.87e-03\n",
      "\n",
      "\n",
      "RMSE amplitude for HLLC scheme:\n",
      "Grid size: 0.26 m, RMSE amplitude: 3.07e-01\n",
      "Grid size: 0.17 m, RMSE amplitude: 7.84e-02\n",
      "Grid size: 0.13 m, RMSE amplitude: 2.72e-02\n"
     ]
    }
   ],
   "source": [
    "print(\"RMSE amplitude for staggered scheme:\")\n",
    "for i in range(len(grid_size)):\n",
    "    print(\n",
    "        \"Grid size: {:.2f} m, RMSE amplitude: {:.2e}\".format(\n",
    "            grid_size[i], rmse_amplitude_stagg[i]\n",
    "        )\n",
    "    )\n",
    "\n",
    "print(\"\\n\")\n",
    "\n",
    "print(\"RMSE amplitude for HLLC scheme:\")\n",
    "for i in range(len(grid_size)):\n",
    "    print(\n",
    "        \"Grid size: {:.2f} m, RMSE amplitude: {:.2e}\".format(\n",
    "            grid_size[i], rmse_amplitude_hllc[i]\n",
    "        )\n",
    "    )"
   ]
  },
  {
   "cell_type": "markdown",
   "id": "72350593",
   "metadata": {},
   "source": [
    "### Dispersive error"
   ]
  },
  {
   "cell_type": "code",
   "execution_count": 11,
   "id": "8e41e3e3",
   "metadata": {},
   "outputs": [],
   "source": [
    "rmse_phase_stagg = []\n",
    "rmse_phase_hllc = []\n",
    "\n",
    "for i in range(len(grid_size)):\n",
    "\n",
    "    rmse_phase_stagg.append(\n",
    "        dispersive_rmse(\n",
    "            ds_stagg[i].sel(time_gauges=slice(time_min, time_max)),\n",
    "            ds_exact[i].sel(time_gauges=slice(time_min, time_max)),\n",
    "        )\n",
    "    )\n",
    "\n",
    "    rmse_phase_hllc.append(\n",
    "        dispersive_rmse(\n",
    "            ds_hllc[i].sel(time_gauges=slice(time_min, time_max)),\n",
    "            ds_exact[i].sel(time_gauges=slice(time_min, time_max)),\n",
    "        )\n",
    "    )"
   ]
  },
  {
   "cell_type": "code",
   "execution_count": 12,
   "id": "e40d40ef",
   "metadata": {},
   "outputs": [
    {
     "name": "stdout",
     "output_type": "stream",
     "text": [
      "RMSE phase for staggered scheme:\n",
      "Grid size: 0.26 m, RMSE phase: 6.54e-02\n",
      "Grid size: 0.17 m, RMSE phase: 2.99e-02\n",
      "Grid size: 0.13 m, RMSE phase: 1.77e-02\n",
      "\n",
      "\n",
      "RMSE phase for HLLC scheme:\n",
      "Grid size: 0.26 m, RMSE phase: 9.26e-02\n",
      "Grid size: 0.17 m, RMSE phase: 2.78e-02\n",
      "Grid size: 0.13 m, RMSE phase: 1.01e-02\n"
     ]
    }
   ],
   "source": [
    "print(\"RMSE phase for staggered scheme:\")\n",
    "for i in range(len(grid_size)):\n",
    "    print(\n",
    "        \"Grid size: {:.2f} m, RMSE phase: {:.2e}\".format(\n",
    "            grid_size[i], rmse_phase_stagg[i]\n",
    "        )\n",
    "    )\n",
    "\n",
    "print(\"\\n\")\n",
    "\n",
    "print(\"RMSE phase for HLLC scheme:\")\n",
    "for i in range(len(grid_size)):\n",
    "    print(\n",
    "        \"Grid size: {:.2f} m, RMSE phase: {:.2e}\".format(\n",
    "            grid_size[i], rmse_phase_hllc[i]\n",
    "        )\n",
    "    )"
   ]
  }
 ],
 "metadata": {
  "kernelspec": {
   "display_name": "doc_code",
   "language": "python",
   "name": "python3"
  },
  "language_info": {
   "codemirror_mode": {
    "name": "ipython",
    "version": 3
   },
   "file_extension": ".py",
   "mimetype": "text/x-python",
   "name": "python",
   "nbconvert_exporter": "python",
   "pygments_lexer": "ipython3",
   "version": "3.11.11"
  }
 },
 "nbformat": 4,
 "nbformat_minor": 5
}
